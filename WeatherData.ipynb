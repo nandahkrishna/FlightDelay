{
 "cells": [
  {
   "cell_type": "markdown",
   "metadata": {
    "colab_type": "text",
    "id": "F-xE2-rZQSUV"
   },
   "source": [
    "# Flight Delay Prediction Part 2 - Weather Data"
   ]
  },
  {
   "cell_type": "code",
   "execution_count": null,
   "metadata": {
    "colab": {},
    "colab_type": "code",
    "id": "Ip73BwkhQPRf"
   },
   "outputs": [],
   "source": [
    "# Mounting Google Drive\n",
    "from google.colab import drive\n",
    "drive.mount('/content/gdrive')"
   ]
  },
  {
   "cell_type": "code",
   "execution_count": null,
   "metadata": {
    "colab": {},
    "colab_type": "code",
    "id": "5LlPOGTOQ0Xe"
   },
   "outputs": [],
   "source": [
    "# Import file handling from google.colab \n",
    "from google.colab import files"
   ]
  },
  {
   "cell_type": "code",
   "execution_count": null,
   "metadata": {
    "colab": {},
    "colab_type": "code",
    "id": "BlKqxgcQQ0iS"
   },
   "outputs": [],
   "source": [
    "# Getting the required Weather Data JSON files\n",
    "import pandas as pd\n",
    "import numpy as np\n",
    "import csv\n",
    "import json\n",
    "# Path for files in Drive, change as required\n",
    "path = \"/content/gdrive/My Drive/Flight Delay/Data/Weather/\"\n",
    "months = [\"1\", \"2\", \"3\", \"4\", \"5\", \"6\", \"7\", \"8\", \"9\", \"10\", \"11\", \"12\"]\n",
    "years = [\"2016-\", \"2017-\"]\n",
    "airports = [\"ATL\", \"CLT\", \"DEN\", \"DFW\", \"EWR\", \"IAH\", \"JFK\", \"LAS\", \"LAX\", \n",
    "            \"MCO\", \"MIA\", \"ORD\", \"PHX\", \"SEA\", \"SFO\"]\n",
    "jsondf = []\n",
    "# List of Pandas Dataframes created for JSON files\n",
    "for airport in airports:\n",
    "  for year in years:\n",
    "    for month in months:\n",
    "      jsondf.append(pd.read_json(path+airport+\"/\"+year+month+\".json\"))"
   ]
  },
  {
   "cell_type": "code",
   "execution_count": null,
   "metadata": {
    "colab": {},
    "colab_type": "code",
    "id": "eMt_sT1iQ0ri"
   },
   "outputs": [],
   "source": [
    "# Combine all Dataframes into one - only date, hourly from weather required\n",
    "templ = []\n",
    "for _ in jsondf:\n",
    "  df = pd.DataFrame(_[\"data\"][\"weather\"])\n",
    "  df = df[[\"date\", \"hourly\"]]\n",
    "  templ.append(df)\n",
    "wtempdf = pd.concat(templ)\n",
    "# Re-indexing\n",
    "wtempdf.reset_index()\n",
    "wtempdf.index = range(10965)\n",
    "wtempdf[\"i\"] = wtempdf.index\n",
    "# Adding airport column\n",
    "wtempdf[\"airport\"] = wtempdf[\"i\"].apply(lambda x: airports[x//731])\n",
    "del wtempdf[\"i\"]"
   ]
  },
  {
   "cell_type": "code",
   "execution_count": null,
   "metadata": {
    "colab": {},
    "colab_type": "code",
    "id": "xplGKRy4Q1Pb"
   },
   "outputs": [],
   "source": [
    "# Splitting dates into individual hours\n",
    "rows = []\n",
    "_ = wtempdf.apply(lambda row: [rows.append([row['date'], h, row['airport']]) \n",
    "                         for h in row.hourly], axis=1)\n",
    "wdf2 = pd.DataFrame(rows, columns=wtempdf.columns)\n",
    "# Adding hour column\n",
    "wdf2[\"hour\"] = wdf2.index\n",
    "wdf2[\"hour\"] = wdf2[\"hour\"]%24"
   ]
  },
  {
   "cell_type": "code",
   "execution_count": null,
   "metadata": {
    "colab": {},
    "colab_type": "code",
    "id": "39ow_pQqjI71"
   },
   "outputs": [],
   "source": [
    "# Split hourly into individual columns for each weather aspect\n",
    "wdf2 = pd.concat([wdf2.drop(['hourly'], axis=1), wdf2['hourly'].apply(pd.Series)], axis=1)"
   ]
  },
  {
   "cell_type": "code",
   "execution_count": null,
   "metadata": {
    "colab": {},
    "colab_type": "code",
    "id": "-TzasPUnn2QC"
   },
   "outputs": [],
   "source": [
    "# Select required weather features to retain, and other required columns\n",
    "wdf2 = wdf2[[\"date\",\"hour\",\"airport\",\"tempC\",\"windspeedKmph\",\"winddir16Point\",\"weatherCode\",\"precipMM\",\"humidity\",\"pressure\",\"cloudcover\",\"visibility\",\"DewPointC\",\"WindChillC\",\"WindGustKmph\"]]"
   ]
  },
  {
   "cell_type": "code",
   "execution_count": null,
   "metadata": {
    "colab": {},
    "colab_type": "code",
    "id": "5-L0qFRyobhw"
   },
   "outputs": [],
   "source": [
    "# Re-indexing by creating a unique code for each row using date, hour and airport\n",
    "def code(row):\n",
    "  return row[\"date\"]+str(row[\"hour\"])+row[\"airport\"]\n",
    "wdf2[\"index\"] = wdf2.apply(lambda row: code(row), axis = 1)\n",
    "wdf2.index = wdf2[\"index\"]"
   ]
  },
  {
   "cell_type": "code",
   "execution_count": null,
   "metadata": {
    "colab": {
     "base_uri": "https://localhost:8080/",
     "height": 2000
    },
    "colab_type": "code",
    "executionInfo": {
     "elapsed": 843,
     "status": "ok",
     "timestamp": 1543094286286,
     "user": {
      "displayName": "Nanda H Krishna",
      "photoUrl": "https://lh4.googleusercontent.com/-6k_OhwA8ojs/AAAAAAAAAAI/AAAAAAAAABI/pARjetbedb0/s64/photo.jpg",
      "userId": "01156192776708384514"
     },
     "user_tz": -330
    },
    "id": "d1GrWMEev6Cn",
    "outputId": "9adfee16-f282-49ca-ee2d-632d07bde623"
   },
   "outputs": [],
   "source": [
    "# Delete extra index column\n",
    "del wdf2[\"index\"]\n",
    "# View DataFrame\n",
    "wdf2"
   ]
  },
  {
   "cell_type": "code",
   "execution_count": null,
   "metadata": {
    "colab": {},
    "colab_type": "code",
    "id": "2MnqvCbtwjL-"
   },
   "outputs": [],
   "source": [
    "# Loading FLIGHTSDF.csv to combine weather data\n",
    "fddf = pd.read_csv(\"/content/gdrive/My Drive/Flight Delay/Data/FLIGHTSDF.csv\")\n",
    "# Re-indexing fddf with similar code for easy joining\n",
    "def codef(row):\n",
    "  return row[\"FL_DATE\"]+str(row[\"HOUR\"])+row[\"ORIGIN\"]\n",
    "fddf[\"index\"] = fddf.apply(lambda row: codef(row), axis = 1)"
   ]
  },
  {
   "cell_type": "code",
   "execution_count": null,
   "metadata": {
    "colab": {
     "base_uri": "https://localhost:8080/",
     "height": 3040
    },
    "colab_type": "code",
    "executionInfo": {
     "elapsed": 1599,
     "status": "ok",
     "timestamp": 1543094712550,
     "user": {
      "displayName": "Nanda H Krishna",
      "photoUrl": "https://lh4.googleusercontent.com/-6k_OhwA8ojs/AAAAAAAAAAI/AAAAAAAAABI/pARjetbedb0/s64/photo.jpg",
      "userId": "01156192776708384514"
     },
     "user_tz": -330
    },
    "id": "dIfagVlgxMW6",
    "outputId": "19cfd86b-8669-42fa-ea76-1d2dd5224817"
   },
   "outputs": [],
   "source": [
    "# Re-indexing and delete unwanted column\n",
    "fddf.index = fddf[\"index\"]\n",
    "del fddf[\"Unnamed: 0\"]\n",
    "del fddf[\"index\"]\n",
    "# View DataFrame\n",
    "fddf"
   ]
  },
  {
   "cell_type": "code",
   "execution_count": null,
   "metadata": {
    "colab": {
     "base_uri": "https://localhost:8080/",
     "height": 3040
    },
    "colab_type": "code",
    "executionInfo": {
     "elapsed": 5500,
     "status": "ok",
     "timestamp": 1543094723664,
     "user": {
      "displayName": "Nanda H Krishna",
      "photoUrl": "https://lh4.googleusercontent.com/-6k_OhwA8ojs/AAAAAAAAAAI/AAAAAAAAABI/pARjetbedb0/s64/photo.jpg",
      "userId": "01156192776708384514"
     },
     "user_tz": -330
    },
    "id": "o1-A0TAey9Mm",
    "outputId": "4d722bc5-5d30-442d-9c14-d84bff306af2"
   },
   "outputs": [],
   "source": [
    "# Join as per conditions and view result\n",
    "result = pd.concat([fddf, wdf2], axis=1, join_axes=[fddf.index])\n",
    "result"
   ]
  },
  {
   "cell_type": "code",
   "execution_count": null,
   "metadata": {
    "colab": {},
    "colab_type": "code",
    "id": "R--IR1yJmURR"
   },
   "outputs": [],
   "source": [
    "# Create CSV for result and download it\n",
    "result.to_csv(\"RESULT.csv\")\n",
    "files.download(\"RESULT.csv\")"
   ]
  },
  {
   "cell_type": "code",
   "execution_count": null,
   "metadata": {
    "colab": {},
    "colab_type": "code",
    "id": "x9LAZYdN1iTl"
   },
   "outputs": [],
   "source": [
    "# DataFrames with delay values less than, equal to and more than 0\n",
    "a, b, c = result[result[\"DEP_DELAY\"] < 0], result[result[\"DEP_DELAY\"] == 0], result[result[\"DEP_DELAY\"] > 0]"
   ]
  },
  {
   "cell_type": "code",
   "execution_count": null,
   "metadata": {
    "colab": {
     "base_uri": "https://localhost:8080/",
     "height": 362
    },
    "colab_type": "code",
    "executionInfo": {
     "elapsed": 1069,
     "status": "ok",
     "timestamp": 1543096200644,
     "user": {
      "displayName": "Nanda H Krishna",
      "photoUrl": "https://lh4.googleusercontent.com/-6k_OhwA8ojs/AAAAAAAAAAI/AAAAAAAAABI/pARjetbedb0/s64/photo.jpg",
      "userId": "01156192776708384514"
     },
     "user_tz": -330
    },
    "id": "fKS6zx-O29zS",
    "outputId": "a9a62df6-7e05-47da-ec84-34af23675433"
   },
   "outputs": [],
   "source": [
    "# Plotting the number of values in each category\n",
    "s = pd.Series([len(a), len(b), len(c)])\n",
    "s.index = [\"Delay < 0\",\"Delay = 0\",\"Delay > 0\"]\n",
    "get = s.plot(title=\"Distribution\", kind=\"pie\")\n",
    "get.set_ylabel(\"\")"
   ]
  }
 ],
 "metadata": {
  "colab": {
   "collapsed_sections": [],
   "name": "WeatherData.ipynb",
   "provenance": [],
   "version": "0.3.2"
  },
  "kernelspec": {
   "display_name": "Python 3",
   "language": "python",
   "name": "python3"
  },
  "language_info": {
   "codemirror_mode": {
    "name": "ipython",
    "version": 3
   },
   "file_extension": ".py",
   "mimetype": "text/x-python",
   "name": "python",
   "nbconvert_exporter": "python",
   "pygments_lexer": "ipython3",
   "version": "3.7.3"
  }
 },
 "nbformat": 4,
 "nbformat_minor": 1
}
