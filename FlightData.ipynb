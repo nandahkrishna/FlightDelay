{
 "cells": [
  {
   "cell_type": "markdown",
   "metadata": {
    "colab_type": "text",
    "id": "b0S-wYzCVuvw"
   },
   "source": [
    "# Flight Delay Prediction Part 1 - Flight Data"
   ]
  },
  {
   "cell_type": "code",
   "execution_count": null,
   "metadata": {
    "colab": {},
    "colab_type": "code",
    "id": "Jaq9aF3eOF1M"
   },
   "outputs": [],
   "source": [
    "# Mounting Google Drive\n",
    "from google.colab import drive\n",
    "drive.mount('/content/gdrive')"
   ]
  },
  {
   "cell_type": "code",
   "execution_count": null,
   "metadata": {
    "colab": {},
    "colab_type": "code",
    "id": "Mzmn_Yl2PdIU"
   },
   "outputs": [],
   "source": [
    "# Import file handling from google.colab \n",
    "from google.colab import files"
   ]
  },
  {
   "cell_type": "code",
   "execution_count": null,
   "metadata": {
    "colab": {},
    "colab_type": "code",
    "id": "bAtW3gafPt5x"
   },
   "outputs": [],
   "source": [
    "# Loading Flight On-Time Data CSV files\n",
    "import pandas as pd\n",
    "import numpy as np\n",
    "import csv\n",
    "import json\n",
    "# Path for files in Drive, change as required\n",
    "path = \"/content/gdrive/My Drive/Flight Delay/\"\n",
    "months = [\"JAN\", \"FEB\", \"MAR\", \"APR\", \"MAY\", \"JUN\", \"JUL\", \"AUG\", \"SEP\", \"OCT\", \n",
    "          \"NOV\", \"DEC\"]\n",
    "years = [\"16\", \"17\"]\n",
    "csvdf = []\n",
    "# List of Pandas Dataframes created for CSV files\n",
    "for year in years:\n",
    "  for month in months:\n",
    "    csvdf.append(pd.read_csv(path+\"Data/CSV/\"+month+year+\".csv\"))"
   ]
  },
  {
   "cell_type": "code",
   "execution_count": null,
   "metadata": {
    "colab": {},
    "colab_type": "code",
    "id": "-0hfABF8Sq8M"
   },
   "outputs": [],
   "source": [
    "# Removing unwanted data - isolate 15 required airports\n",
    "airports = [\"ATL\", \"CLT\", \"DEN\", \"DFW\", \"EWR\", \"IAH\", \"JFK\", \"LAS\", \"LAX\", \n",
    "            \"MCO\", \"MIA\", \"ORD\", \"PHX\", \"SEA\", \"SFO\"]\n",
    "csvdfn = []\n",
    "for df in csvdf:\n",
    "  df = df[df['ORIGIN'].isin(airports)]\n",
    "  df = df[df['DEST'].isin(airports)]\n",
    "  csvdfn.append(df)\n",
    "# List csvdfn now contains 24 Dataframes with data for 15 airports"
   ]
  },
  {
   "cell_type": "code",
   "execution_count": null,
   "metadata": {
    "colab": {},
    "colab_type": "code",
    "id": "JDSfReFvVgj_"
   },
   "outputs": [],
   "source": [
    "# Combining all 24 Dataframes into 1 and some modifications\n",
    "flightsdf = pd.concat(csvdfn)\n",
    "del flightsdf[\"Unnamed: 20\"]\n",
    "flightsdf = flightsdf[flightsdf.CRS_DEP_TIME.notnull()]\n",
    "flightsdf = flightsdf[flightsdf.DEP_DELAY.notnull()]\n",
    "flightsdf = flightsdf.reset_index()\n",
    "del flightsdf[\"index\"]\n",
    "# Adding nearest hour to departure time as a column\n",
    "flightsdf[\"HOUR\"] = flightsdf[\"CRS_DEP_TIME\"]//100 + (flightsdf[\"CRS_DEP_TIME\"]%100)//30\n",
    "flightsdf[\"HOUR\"] = np.where(flightsdf[\"HOUR\"]>=24, 23, flightsdf[\"HOUR\"])"
   ]
  },
  {
   "cell_type": "code",
   "execution_count": null,
   "metadata": {
    "colab": {},
    "colab_type": "code",
    "id": "AJCNkjLgh99n"
   },
   "outputs": [],
   "source": [
    "# Create CSV for flightsdf and download\n",
    "flightsdf.to_csv(\"FLIGHTSDF.csv\")\n",
    "files.download(\"FLIGHTSDF.csv\")"
   ]
  }
 ],
 "metadata": {
  "accelerator": "GPU",
  "colab": {
   "collapsed_sections": [],
   "name": "FlightData.ipynb",
   "provenance": [],
   "version": "0.3.2"
  },
  "kernelspec": {
   "display_name": "Python 3",
   "language": "python",
   "name": "python3"
  },
  "language_info": {
   "codemirror_mode": {
    "name": "ipython",
    "version": 3
   },
   "file_extension": ".py",
   "mimetype": "text/x-python",
   "name": "python",
   "nbconvert_exporter": "python",
   "pygments_lexer": "ipython3",
   "version": "3.7.3"
  }
 },
 "nbformat": 4,
 "nbformat_minor": 1
}
