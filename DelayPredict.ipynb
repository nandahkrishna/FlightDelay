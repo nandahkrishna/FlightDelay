{
 "cells": [
  {
   "cell_type": "markdown",
   "metadata": {
    "colab_type": "text",
    "id": "6_uAOBVgi9FL"
   },
   "source": [
    "# Flight Delay Prediction Part 4 - Delay Prediction"
   ]
  },
  {
   "cell_type": "markdown",
   "metadata": {
    "colab_type": "text",
    "id": "xGAG1RsfGsWI"
   },
   "source": [
    "We will be predicting the arrival delay of the flights."
   ]
  },
  {
   "cell_type": "code",
   "execution_count": null,
   "metadata": {
    "colab": {
     "base_uri": "https://localhost:8080/",
     "height": 34
    },
    "colab_type": "code",
    "id": "V9HwL9iKi7wR",
    "outputId": "5cf176dc-52c5-4746-ab58-4740015ae3c3"
   },
   "outputs": [],
   "source": [
    "# Mounting Google Drive\n",
    "from google.colab import drive\n",
    "drive.mount('/content/gdrive')"
   ]
  },
  {
   "cell_type": "code",
   "execution_count": null,
   "metadata": {
    "colab": {},
    "colab_type": "code",
    "id": "Y6ff9_lxjbAo"
   },
   "outputs": [],
   "source": [
    "# Load all requirements\n",
    "from google.colab import files\n",
    "import pandas as pd\n",
    "import numpy as np\n",
    "from sklearn.linear_model import LinearRegression\n",
    "from sklearn.model_selection import train_test_split\n",
    "from sklearn.metrics import accuracy_score\n",
    "from sklearn.preprocessing import LabelEncoder, OneHotEncoder, StandardScaler\n",
    "from sklearn.metrics import accuracy_score, f1_score, precision_score, recall_score, classification_report, confusion_matrix\n",
    "df = pd.read_csv(\"RESULT.csv\")"
   ]
  },
  {
   "cell_type": "code",
   "execution_count": null,
   "metadata": {
    "colab": {},
    "colab_type": "code",
    "id": "1sPSkXjal5CU"
   },
   "outputs": [],
   "source": [
    "# Train only on flights that have an arrival delay\n",
    "df = df[df[\"ARR_DEL15\"]==1]\n",
    "# Labels must be predicted\n",
    "labels = np.asarray(df[\"ARR_DELAY_NEW\"])\n",
    "# Drop unwanted columns from the feature DataFrame\n",
    "df_select = df.drop([\"OP_CARRIER_FL_NUM\",\"DEP_DELAY\",\"DEP_DEL15\",\"DEP_TIME\",\"ARR_DELAY\",\"ARR_DELAY_NEW\",\"ARR_DEL15\",\"ARR_TIME\",\"date\",\"airport\",\"index\",\"FL_DATE\",'hour'],axis=1)\n",
    "df_select = df_select.reset_index(drop=True)\n",
    "df_select.drop(['OP_UNIQUE_CARRIER'],axis=1, inplace=True)\n",
    "df_select.drop(['ORIGIN'],axis=1, inplace=True)\n",
    "# Sample one-hot encoding statement:\n",
    "# df_select = pd.concat([df_select,pd.get_dummies(df_select['DEST'], prefix='DEST')],axis=1)\n",
    "df_select.drop(['DEST'],axis=1, inplace=True)\n",
    "df_select.drop(['winddir16Point'],axis=1, inplace=True)\n",
    "# Features are the input based on which we must predict the delay value\n",
    "features = np.asarray(df_select)"
   ]
  },
  {
   "cell_type": "code",
   "execution_count": null,
   "metadata": {
    "colab": {
     "base_uri": "https://localhost:8080/",
     "height": 102
    },
    "colab_type": "code",
    "id": "9H1XZHND4c0l",
    "outputId": "a320cf74-52cc-4f16-e242-c8f3a2379ba3"
   },
   "outputs": [],
   "source": [
    "df_select.keys()"
   ]
  },
  {
   "cell_type": "markdown",
   "metadata": {
    "colab_type": "text",
    "id": "-GA2_hF8Hbhc"
   },
   "source": [
    "### Gradient Boosting Regressor"
   ]
  },
  {
   "cell_type": "code",
   "execution_count": null,
   "metadata": {
    "colab": {
     "base_uri": "https://localhost:8080/",
     "height": 34
    },
    "colab_type": "code",
    "id": "xJGAw-p-mth7",
    "outputId": "d0eb65d1-e420-43b0-f9c3-a96e7b8ba78b"
   },
   "outputs": [],
   "source": [
    "features_train, features_test, labels_train, labels_test = train_test_split(features, labels, test_size=0.20, random_state=42)\n",
    "from sklearn.ensemble import GradientBoostingRegressor\n",
    "lr = GradientBoostingRegressor()\n",
    "lr.fit(features_train,labels_train)\n",
    "pred = lr.predict(features_test)\n",
    "acc_test = lr.score(features_test,labels_test)\n",
    "print (\"Test Accuracy:\", acc_test)"
   ]
  },
  {
   "cell_type": "markdown",
   "metadata": {
    "colab_type": "text",
    "id": "2mxAlqOQHirJ"
   },
   "source": [
    "### Extra Trees Regressor"
   ]
  },
  {
   "cell_type": "code",
   "execution_count": null,
   "metadata": {
    "colab": {
     "base_uri": "https://localhost:8080/",
     "height": 204
    },
    "colab_type": "code",
    "id": "Rvya-sH66N9R",
    "outputId": "777295ef-7151-4e8d-d013-67cff3f746d2"
   },
   "outputs": [],
   "source": [
    "from sklearn.metrics import mean_squared_error, r2_score, mean_absolute_error\n",
    "from sklearn.ensemble import ExtraTreesRegressor\n",
    "df.dropna(inplace=True)\n",
    "# Train only on delayed flight data\n",
    "df1 = df[df['ARR_DEL15']==1]\n",
    "# Training on 2016 data\n",
    "train = df1[df1['YEAR']==2016]\n",
    "# Testing on 2017 data\n",
    "test = df1[df1['YEAR']==2017]\n",
    "# X is feature set, drop unwanted columns - for training\n",
    "X = train.drop([\"DEP_DEL15\",\"DEP_TIME\",\"DEP_DELAY\",\"ARR_TIME\",\"ARR_DEL15\",\"ARR_DELAY\",\"ARR_DELAY_NEW\",\"DEST\",\"ORIGIN\",\"index\",'FL_DATE',\"OP_UNIQUE_CARRIER\",'hour','date','airport','winddir16Point'],axis=1)\n",
    "# y is the label to predict - training\n",
    "y = train['ARR_DELAY_NEW']\n",
    "# Testing X and y arrays\n",
    "test_x = test.drop([\"DEP_DEL15\",\"DEP_TIME\",\"DEP_DELAY\",\"ARR_TIME\",\"ARR_DEL15\",\"ARR_DELAY\",\"ARR_DELAY_NEW\",\"DEST\",\"ORIGIN\",\"index\",'FL_DATE',\"OP_UNIQUE_CARRIER\",'hour','date','airport','winddir16Point'],axis=1)\n",
    "test_y = test['ARR_DELAY_NEW']\n",
    "# Regressor\n",
    "etr = ExtraTreesRegressor(n_estimators=200,n_jobs=-1,verbose=True)\n",
    "etr.fit(X,y)\n",
    "val = etr.predict(test_x)\n",
    "# Errors\n",
    "print(\"MAE:\\t\",mean_absolute_error(test_y,val))\n",
    "print(\"RMSE:\\t\",np.sqrt(mean_squared_error(test_y,val)))\n",
    "print(\"R2:\\t\",r2_score(test_y,val))"
   ]
  },
  {
   "cell_type": "code",
   "execution_count": null,
   "metadata": {
    "colab": {
     "base_uri": "https://localhost:8080/",
     "height": 119
    },
    "colab_type": "code",
    "id": "eyKbmMf-BS03",
    "outputId": "728a6f3d-70a9-4152-e78a-d8b0fb059640"
   },
   "outputs": [],
   "source": [
    "X.keys()"
   ]
  },
  {
   "cell_type": "code",
   "execution_count": null,
   "metadata": {
    "colab": {
     "base_uri": "https://localhost:8080/",
     "height": 102
    },
    "colab_type": "code",
    "id": "y9sGDzuZsWOD",
    "outputId": "bd279f79-04b6-4bba-9eee-c712f28ef0b9"
   },
   "outputs": [],
   "source": [
    "etr.feature_importances_"
   ]
  }
 ],
 "metadata": {
  "colab": {
   "collapsed_sections": [],
   "name": "DelayPredict.ipynb",
   "provenance": [],
   "version": "0.3.2"
  },
  "kernelspec": {
   "display_name": "Python 3",
   "language": "python",
   "name": "python3"
  },
  "language_info": {
   "codemirror_mode": {
    "name": "ipython",
    "version": 3
   },
   "file_extension": ".py",
   "mimetype": "text/x-python",
   "name": "python",
   "nbconvert_exporter": "python",
   "pygments_lexer": "ipython3",
   "version": "3.7.3"
  }
 },
 "nbformat": 4,
 "nbformat_minor": 1
}
