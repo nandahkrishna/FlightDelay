{
 "cells": [
  {
   "cell_type": "markdown",
   "metadata": {
    "colab_type": "text",
    "id": "g6OV6rBMiXCk"
   },
   "source": [
    "# Flight Delay Prediction Part 3 - Classification"
   ]
  },
  {
   "cell_type": "markdown",
   "metadata": {
    "colab_type": "text",
    "id": "T9XDjq9LGgeV"
   },
   "source": [
    "We will be predicting whether there was a delay in the departure or not."
   ]
  },
  {
   "cell_type": "code",
   "execution_count": null,
   "metadata": {
    "colab": {
     "base_uri": "https://localhost:8080/",
     "height": 34
    },
    "colab_type": "code",
    "executionInfo": {
     "elapsed": 771,
     "status": "ok",
     "timestamp": 1544094997154,
     "user": {
      "displayName": "Nanda H Krishna",
      "photoUrl": "https://lh4.googleusercontent.com/-6k_OhwA8ojs/AAAAAAAAAAI/AAAAAAAAABI/pARjetbedb0/s64/photo.jpg",
      "userId": "01156192776708384514"
     },
     "user_tz": -330
    },
    "id": "_U9r3AX1nibS",
    "outputId": "994af8ca-8c1c-43d2-b966-1bee09781b9f"
   },
   "outputs": [],
   "source": [
    "# Mounting Google Drive\n",
    "from google.colab import drive\n",
    "drive.mount('/content/gdrive')"
   ]
  },
  {
   "cell_type": "markdown",
   "metadata": {
    "colab_type": "text",
    "id": "c_3Mhmd9oD5g"
   },
   "source": [
    "## Classification"
   ]
  },
  {
   "cell_type": "code",
   "execution_count": null,
   "metadata": {
    "colab": {},
    "colab_type": "code",
    "id": "zczUqJdyn3v5"
   },
   "outputs": [],
   "source": [
    "# Importing requirements\n",
    "from google.colab import files\n",
    "import pandas as pd\n",
    "import numpy as np\n",
    "import imblearn\n",
    "from sklearn.model_selection import train_test_split\n",
    "from sklearn.ensemble import RandomForestClassifier, AdaBoostClassifier\n",
    "from sklearn.naive_bayes import GaussianNB\n",
    "from sklearn.linear_model import LogisticRegression\n",
    "from sklearn.metrics import accuracy_score\n",
    "from sklearn.preprocessing import OneHotEncoder\n",
    "from sklearn.preprocessing import LabelEncoder\n",
    "from sklearn.metrics import accuracy_score, f1_score, precision_score, recall_score, classification_report, confusion_matrix\n",
    "from imblearn.over_sampling import SMOTE, RandomOverSampler\n",
    "from imblearn.under_sampling import RandomUnderSampler"
   ]
  },
  {
   "cell_type": "code",
   "execution_count": null,
   "metadata": {
    "colab": {},
    "colab_type": "code",
    "id": "iQ9NKOxyoThP"
   },
   "outputs": [],
   "source": [
    "# Load the CSV file into a DataFrame\n",
    "df = pd.read_csv(\"/content/gdrive/My Drive/Flight Delay/Data/RESULT.csv\")"
   ]
  },
  {
   "cell_type": "code",
   "execution_count": null,
   "metadata": {
    "colab": {
     "base_uri": "https://localhost:8080/",
     "height": 153
    },
    "colab_type": "code",
    "executionInfo": {
     "elapsed": 14470,
     "status": "ok",
     "timestamp": 1544100014238,
     "user": {
      "displayName": "Nanda H Krishna",
      "photoUrl": "https://lh4.googleusercontent.com/-6k_OhwA8ojs/AAAAAAAAAAI/AAAAAAAAABI/pARjetbedb0/s64/photo.jpg",
      "userId": "01156192776708384514"
     },
     "user_tz": -330
    },
    "id": "eBp83VyWroY0",
    "outputId": "883d71d5-1981-4ddd-bd4a-3878ccdb2d96"
   },
   "outputs": [],
   "source": [
    "# Listing all the column keys\n",
    "df.keys()"
   ]
  },
  {
   "cell_type": "code",
   "execution_count": null,
   "metadata": {
    "colab": {},
    "colab_type": "code",
    "id": "ef5eWawGrr8h"
   },
   "outputs": [],
   "source": [
    "# Labels is an array with the ARR_DEL15 values indicating whether there is a delay in arrival or not\n",
    "# The labels are the 'answer' to predict (classify as delayed or not)\n",
    "labels = np.asarray(df[\"ARR_DEL15\"])\n",
    "# Drop unwanted columns\n",
    "df_select = df.drop([\"DEP_DELAY\",\"DEP_DELAY_NEW\",\"DEP_DEL15\",\"ARR_DELAY\",\"ARR_DELAY_NEW\",\"ARR_DEL15\",\"HOUR\",\"date\",\"hour\",\"airport\",\"index\",\"DEP_TIME\",\"ARR_TIME\",\"FL_DATE\"],axis=1)\n",
    "# Integer enccoding of values\n",
    "lenc = LabelEncoder()\n",
    "intenc = lenc.fit_transform(df_select[\"DEST\"])\n",
    "df_select[\"DEST\"] = intenc\n",
    "intenc = lenc.fit_transform(df_select[\"ORIGIN\"])\n",
    "df_select[\"ORIGIN\"] = intenc\n",
    "intenc = lenc.fit_transform(df_select[\"OP_UNIQUE_CARRIER\"])\n",
    "df_select[\"OP_UNIQUE_CARRIER\"] = intenc\n",
    "intenc = lenc.fit_transform(df_select[\"OP_CARRIER_FL_NUM\"])\n",
    "df_select[\"OP_CARRIER_FL_NUM\"] = intenc\n",
    "intenc = lenc.fit_transform(df_select[\"winddir16Point\"])\n",
    "df_select[\"winddir16Point\"] = intenc\n",
    "intenc = lenc.fit_transform(df_select[\"weatherCode\"])\n",
    "df_select[\"weatherCode\"] = intenc\n",
    "# Features is an array of a list of features to be used for classification\n",
    "# They are the inputs to the classifier\n",
    "features = np.asarray(df_select)"
   ]
  },
  {
   "cell_type": "code",
   "execution_count": null,
   "metadata": {
    "colab": {},
    "colab_type": "code",
    "id": "0hAUKgmcw3P2"
   },
   "outputs": [],
   "source": [
    "df_select.to_csv(\"/content/gdrive/My Drive/Flight Delay/Data/FINALTABLE.csv\")"
   ]
  },
  {
   "cell_type": "code",
   "execution_count": null,
   "metadata": {
    "colab": {},
    "colab_type": "code",
    "id": "0FvXqIapxFxV"
   },
   "outputs": [],
   "source": [
    "features_train, features_test, labels_train, labels_test = train_test_split(features, labels, test_size=0.20, random_state=42)"
   ]
  },
  {
   "cell_type": "markdown",
   "metadata": {
    "colab_type": "text",
    "id": "rrhfeU1H-dj7"
   },
   "source": [
    "### Random Forest"
   ]
  },
  {
   "cell_type": "code",
   "execution_count": null,
   "metadata": {
    "colab": {
     "base_uri": "https://localhost:8080/",
     "height": 34
    },
    "colab_type": "code",
    "executionInfo": {
     "elapsed": 117635,
     "status": "ok",
     "timestamp": 1544080355144,
     "user": {
      "displayName": "Nanda H Krishna",
      "photoUrl": "https://lh4.googleusercontent.com/-6k_OhwA8ojs/AAAAAAAAAAI/AAAAAAAAABI/pARjetbedb0/s64/photo.jpg",
      "userId": "01156192776708384514"
     },
     "user_tz": -330
    },
    "id": "xKGTTDd7nbRr",
    "outputId": "0bd307b3-5264-4886-9312-cdc795c67f75"
   },
   "outputs": [],
   "source": [
    "# Default Classifier\n",
    "cl = RandomForestClassifier()\n",
    "cl.fit(features_train,labels_train)\n",
    "acc_test = cl.score(features_test, labels_test)\n",
    "print (\"Test Accuracy:\", acc_test)"
   ]
  },
  {
   "cell_type": "code",
   "execution_count": null,
   "metadata": {
    "colab": {
     "base_uri": "https://localhost:8080/",
     "height": 68
    },
    "colab_type": "code",
    "executionInfo": {
     "elapsed": 4471,
     "status": "ok",
     "timestamp": 1544080362162,
     "user": {
      "displayName": "Nanda H Krishna",
      "photoUrl": "https://lh4.googleusercontent.com/-6k_OhwA8ojs/AAAAAAAAAAI/AAAAAAAAABI/pARjetbedb0/s64/photo.jpg",
      "userId": "01156192776708384514"
     },
     "user_tz": -330
    },
    "id": "SHowgw7SjNf0",
    "outputId": "7e6100b2-0c65-4423-cc7d-44164488b0d4"
   },
   "outputs": [],
   "source": [
    "# Before SMOTE Oversampling\n",
    "pred = cl.predict(features_test)\n",
    "precision = precision_score(labels_test, pred, average=\"weighted\")\n",
    "recall = recall_score(labels_test, pred, average=\"weighted\")\n",
    "f1 = f1_score(labels_test, pred, average=\"weighted\")\n",
    "print (\"Precision:\", precision)\n",
    "print (\"Recall:\", recall)\n",
    "print (\"F1 Score:\", f1)"
   ]
  },
  {
   "cell_type": "code",
   "execution_count": null,
   "metadata": {
    "colab": {
     "base_uri": "https://localhost:8080/",
     "height": 136
    },
    "colab_type": "code",
    "executionInfo": {
     "elapsed": 900,
     "status": "ok",
     "timestamp": 1544080364323,
     "user": {
      "displayName": "Nanda H Krishna",
      "photoUrl": "https://lh4.googleusercontent.com/-6k_OhwA8ojs/AAAAAAAAAAI/AAAAAAAAABI/pARjetbedb0/s64/photo.jpg",
      "userId": "01156192776708384514"
     },
     "user_tz": -330
    },
    "id": "PcimY72sWPlX",
    "outputId": "69ffb9b2-c8b6-402c-e912-72abc7f63b8e"
   },
   "outputs": [],
   "source": [
    "print(classification_report(labels_test, pred))"
   ]
  },
  {
   "cell_type": "code",
   "execution_count": null,
   "metadata": {
    "colab": {
     "base_uri": "https://localhost:8080/",
     "height": 204
    },
    "colab_type": "code",
    "executionInfo": {
     "elapsed": 309915,
     "status": "ok",
     "timestamp": 1544095381345,
     "user": {
      "displayName": "Nanda H Krishna",
      "photoUrl": "https://lh4.googleusercontent.com/-6k_OhwA8ojs/AAAAAAAAAAI/AAAAAAAAABI/pARjetbedb0/s64/photo.jpg",
      "userId": "01156192776708384514"
     },
     "user_tz": -330
    },
    "id": "yZosFV0jJqEO",
    "outputId": "5662d218-a11c-4fa2-e3ac-6ec27dca1c64"
   },
   "outputs": [],
   "source": [
    "# SMOTE Oversampling\n",
    "sos = SMOTE(random_state=42)\n",
    "X_res, y_res = sos.fit_resample(features_train, labels_train)\n",
    "clf = RandomForestClassifier()\n",
    "clf.fit(X_res,y_res)\n",
    "acc_test = clf.score(features_test,labels_test)\n",
    "print (\"Test Accuracy:\", acc_test)\n",
    "pred = clf.predict(features_test)\n",
    "precision = precision_score(labels_test, pred, average=\"weighted\")\n",
    "recall = recall_score(labels_test, pred, average=\"weighted\")\n",
    "f1 = f1_score(labels_test, pred, average=\"weighted\")\n",
    "print (\"Precision:\", precision)\n",
    "print (\"Recall:\", recall)\n",
    "print (\"F1 Score:\", f1)\n",
    "print(classification_report(labels_test, pred))"
   ]
  },
  {
   "cell_type": "markdown",
   "metadata": {
    "colab_type": "text",
    "id": "r5El8vfq-iza"
   },
   "source": [
    "### Naive Bayes"
   ]
  },
  {
   "cell_type": "code",
   "execution_count": null,
   "metadata": {
    "colab": {
     "base_uri": "https://localhost:8080/",
     "height": 34
    },
    "colab_type": "code",
    "executionInfo": {
     "elapsed": 2189,
     "status": "ok",
     "timestamp": 1544080394518,
     "user": {
      "displayName": "Nanda H Krishna",
      "photoUrl": "https://lh4.googleusercontent.com/-6k_OhwA8ojs/AAAAAAAAAAI/AAAAAAAAABI/pARjetbedb0/s64/photo.jpg",
      "userId": "01156192776708384514"
     },
     "user_tz": -330
    },
    "id": "sJyOG68h-lVX",
    "outputId": "387aeb6a-84ce-43ec-f0a3-5853f86889f7"
   },
   "outputs": [],
   "source": [
    "# Default Classifier\n",
    "gnb = GaussianNB()\n",
    "gnb.fit(features_train,labels_train)\n",
    "acc_test = gnb.score(features_test,labels_test)\n",
    "print (\"Test Accuracy:\", acc_test)"
   ]
  },
  {
   "cell_type": "code",
   "execution_count": null,
   "metadata": {
    "colab": {
     "base_uri": "https://localhost:8080/",
     "height": 68
    },
    "colab_type": "code",
    "executionInfo": {
     "elapsed": 1254,
     "status": "ok",
     "timestamp": 1544080398863,
     "user": {
      "displayName": "Nanda H Krishna",
      "photoUrl": "https://lh4.googleusercontent.com/-6k_OhwA8ojs/AAAAAAAAAAI/AAAAAAAAABI/pARjetbedb0/s64/photo.jpg",
      "userId": "01156192776708384514"
     },
     "user_tz": -330
    },
    "id": "zj_1r1j1kmRM",
    "outputId": "f1e3836e-f793-4ed3-b387-56b9e65b515e"
   },
   "outputs": [],
   "source": [
    "# Before application of sampling techniques\n",
    "pred = gnb.predict(features_test)\n",
    "precision = precision_score(labels_test, pred, average=\"weighted\")\n",
    "recall = recall_score(labels_test, pred, average=\"weighted\")\n",
    "f1 = f1_score(labels_test, pred, average=\"weighted\")\n",
    "print (\"Precision:\", precision)\n",
    "print (\"Recall:\", recall)\n",
    "print (\"F1 Score:\", f1)"
   ]
  },
  {
   "cell_type": "code",
   "execution_count": null,
   "metadata": {
    "colab": {
     "base_uri": "https://localhost:8080/",
     "height": 136
    },
    "colab_type": "code",
    "executionInfo": {
     "elapsed": 903,
     "status": "ok",
     "timestamp": 1544080404450,
     "user": {
      "displayName": "Nanda H Krishna",
      "photoUrl": "https://lh4.googleusercontent.com/-6k_OhwA8ojs/AAAAAAAAAAI/AAAAAAAAABI/pARjetbedb0/s64/photo.jpg",
      "userId": "01156192776708384514"
     },
     "user_tz": -330
    },
    "id": "02cbSAVCXR9D",
    "outputId": "c9934fe2-f057-48d9-84f8-5b24d47e384a"
   },
   "outputs": [],
   "source": [
    "print(classification_report(labels_test, pred))"
   ]
  },
  {
   "cell_type": "code",
   "execution_count": null,
   "metadata": {
    "colab": {
     "base_uri": "https://localhost:8080/",
     "height": 204
    },
    "colab_type": "code",
    "executionInfo": {
     "elapsed": 2837,
     "status": "ok",
     "timestamp": 1544083511643,
     "user": {
      "displayName": "Nanda H Krishna",
      "photoUrl": "https://lh4.googleusercontent.com/-6k_OhwA8ojs/AAAAAAAAAAI/AAAAAAAAABI/pARjetbedb0/s64/photo.jpg",
      "userId": "01156192776708384514"
     },
     "user_tz": -330
    },
    "id": "Z7YWdO41hQK2",
    "outputId": "5481d578-64da-4157-f722-662f6ba10bc4"
   },
   "outputs": [],
   "source": [
    "# Random Undersampling\n",
    "rus = RandomUnderSampler(random_state=42)\n",
    "X_res, y_res = rus.fit_resample(features_train, labels_train)\n",
    "gnb = GaussianNB()\n",
    "gnb.fit(X_res,y_res)\n",
    "acc_test = gnb.score(features_test,labels_test)\n",
    "print (\"Test Accuracy:\", acc_test)\n",
    "pred = gnb.predict(features_test)\n",
    "precision = precision_score(labels_test, pred, average=\"weighted\")\n",
    "recall = recall_score(labels_test, pred, average=\"weighted\")\n",
    "f1 = f1_score(labels_test, pred, average=\"weighted\")\n",
    "print (\"Precision:\", precision)\n",
    "print (\"Recall:\", recall)\n",
    "print (\"F1 Score:\", f1)\n",
    "print(classification_report(labels_test, pred))"
   ]
  },
  {
   "cell_type": "code",
   "execution_count": null,
   "metadata": {
    "colab": {
     "base_uri": "https://localhost:8080/",
     "height": 204
    },
    "colab_type": "code",
    "executionInfo": {
     "elapsed": 7569,
     "status": "ok",
     "timestamp": 1544083618757,
     "user": {
      "displayName": "Nanda H Krishna",
      "photoUrl": "https://lh4.googleusercontent.com/-6k_OhwA8ojs/AAAAAAAAAAI/AAAAAAAAABI/pARjetbedb0/s64/photo.jpg",
      "userId": "01156192776708384514"
     },
     "user_tz": -330
    },
    "id": "hlcWCzcVjOJn",
    "outputId": "ac6b1350-542f-4bca-fcca-c2f63aa6b368"
   },
   "outputs": [],
   "source": [
    "# Random Oversampling\n",
    "ros = RandomOverSampler(random_state=42)\n",
    "X_res, y_res = ros.fit_resample(features_train, labels_train)\n",
    "gnb = GaussianNB()\n",
    "gnb.fit(X_res,y_res)\n",
    "acc_test = gnb.score(features_test,labels_test)\n",
    "print (\"Test Accuracy:\", acc_test)\n",
    "pred = gnb.predict(features_test)\n",
    "precision = precision_score(labels_test, pred, average=\"weighted\")\n",
    "recall = recall_score(labels_test, pred, average=\"weighted\")\n",
    "f1 = f1_score(labels_test, pred, average=\"weighted\")\n",
    "print (\"Precision:\", precision)\n",
    "print (\"Recall:\", recall)\n",
    "print (\"F1 Score:\", f1)\n",
    "print(classification_report(labels_test, pred))"
   ]
  },
  {
   "cell_type": "code",
   "execution_count": null,
   "metadata": {
    "colab": {
     "base_uri": "https://localhost:8080/",
     "height": 204
    },
    "colab_type": "code",
    "executionInfo": {
     "elapsed": 34470,
     "status": "ok",
     "timestamp": 1544083745751,
     "user": {
      "displayName": "Nanda H Krishna",
      "photoUrl": "https://lh4.googleusercontent.com/-6k_OhwA8ojs/AAAAAAAAAAI/AAAAAAAAABI/pARjetbedb0/s64/photo.jpg",
      "userId": "01156192776708384514"
     },
     "user_tz": -330
    },
    "id": "RhrJRr0yjuKN",
    "outputId": "0b8d86eb-eaad-4438-a71c-faeeb506b1d4"
   },
   "outputs": [],
   "source": [
    "# SMOTE Oversampling\n",
    "sos = SMOTE(random_state=42)\n",
    "X_res, y_res = sos.fit_resample(features_train, labels_train)\n",
    "gnb = GaussianNB()\n",
    "gnb.fit(X_res,y_res)\n",
    "acc_test = gnb.score(features_test,labels_test)\n",
    "print (\"Test Accuracy:\", acc_test)\n",
    "pred = gnb.predict(features_test)\n",
    "precision = precision_score(labels_test, pred, average=\"weighted\")\n",
    "recall = recall_score(labels_test, pred, average=\"weighted\")\n",
    "f1 = f1_score(labels_test, pred, average=\"weighted\")\n",
    "print (\"Precision:\", precision)\n",
    "print (\"Recall:\", recall)\n",
    "print (\"F1 Score:\", f1)\n",
    "print(classification_report(labels_test, pred))"
   ]
  },
  {
   "cell_type": "markdown",
   "metadata": {
    "colab_type": "text",
    "id": "tpnI2kiDCkMQ"
   },
   "source": [
    "### AdaBoost"
   ]
  },
  {
   "cell_type": "code",
   "execution_count": null,
   "metadata": {
    "colab": {
     "base_uri": "https://localhost:8080/",
     "height": 34
    },
    "colab_type": "code",
    "executionInfo": {
     "elapsed": 381650,
     "status": "ok",
     "timestamp": 1544000561324,
     "user": {
      "displayName": "Nanda H Krishna",
      "photoUrl": "https://lh4.googleusercontent.com/-6k_OhwA8ojs/AAAAAAAAAAI/AAAAAAAAABI/pARjetbedb0/s64/photo.jpg",
      "userId": "01156192776708384514"
     },
     "user_tz": -330
    },
    "id": "jUKqaRZtF-aZ",
    "outputId": "025bd532-ac41-4981-90e5-9e1bdc87bf53"
   },
   "outputs": [],
   "source": [
    "# Default Classifier\n",
    "adb = AdaBoostClassifier()\n",
    "adb.fit(features_train,labels_train)\n",
    "acc_test = adb.score(features_test,labels_test)\n",
    "print (\"Test Accuracy:\", acc_test)"
   ]
  },
  {
   "cell_type": "code",
   "execution_count": null,
   "metadata": {
    "colab": {
     "base_uri": "https://localhost:8080/",
     "height": 68
    },
    "colab_type": "code",
    "executionInfo": {
     "elapsed": 4099,
     "status": "ok",
     "timestamp": 1544000569857,
     "user": {
      "displayName": "Nanda H Krishna",
      "photoUrl": "https://lh4.googleusercontent.com/-6k_OhwA8ojs/AAAAAAAAAAI/AAAAAAAAABI/pARjetbedb0/s64/photo.jpg",
      "userId": "01156192776708384514"
     },
     "user_tz": -330
    },
    "id": "ezrIfI3Hkn16",
    "outputId": "fbf472f9-1aab-4d4f-d5b4-476b06489a4c"
   },
   "outputs": [],
   "source": [
    "# Before SMOTE Oversampling\n",
    "pred = adb.predict(features_test)\n",
    "precision = precision_score(labels_test, pred, average=\"weighted\")\n",
    "recall = recall_score(labels_test, pred, average=\"weighted\")\n",
    "f1 = f1_score(labels_test, pred, average=\"weighted\")\n",
    "print (\"Precision:\", precision)\n",
    "print (\"Recall:\", recall)\n",
    "print (\"F1 Score:\", f1)"
   ]
  },
  {
   "cell_type": "code",
   "execution_count": null,
   "metadata": {
    "colab": {
     "base_uri": "https://localhost:8080/",
     "height": 204
    },
    "colab_type": "code",
    "executionInfo": {
     "elapsed": 1332819,
     "status": "ok",
     "timestamp": 1544086986206,
     "user": {
      "displayName": "Nanda H Krishna",
      "photoUrl": "https://lh4.googleusercontent.com/-6k_OhwA8ojs/AAAAAAAAAAI/AAAAAAAAABI/pARjetbedb0/s64/photo.jpg",
      "userId": "01156192776708384514"
     },
     "user_tz": -330
    },
    "id": "2q70TpZClMKO",
    "outputId": "f01ebbf1-ba24-43a5-c7a3-4609e98d5c97"
   },
   "outputs": [],
   "source": [
    "# SMOTE Oversampling\n",
    "adb = AdaBoostClassifier(n_estimators = 100)\n",
    "adb.fit(X_res,y_res)\n",
    "acc_test = adb.score(features_test,labels_test)\n",
    "print (\"Test Accuracy:\", acc_test)\n",
    "pred = adb.predict(features_test)\n",
    "precision = precision_score(labels_test, pred, average=\"weighted\")\n",
    "recall = recall_score(labels_test, pred, average=\"weighted\")\n",
    "f1 = f1_score(labels_test, pred, average=\"weighted\")\n",
    "print (\"Precision:\", precision)\n",
    "print (\"Recall:\", recall)\n",
    "print (\"F1 Score:\", f1)\n",
    "print(classification_report(labels_test, pred))"
   ]
  },
  {
   "cell_type": "markdown",
   "metadata": {
    "colab_type": "text",
    "id": "RhJ_6AT2rNmI"
   },
   "source": [
    "### Extra Trees"
   ]
  },
  {
   "cell_type": "code",
   "execution_count": null,
   "metadata": {
    "colab": {
     "base_uri": "https://localhost:8080/",
     "height": 204
    },
    "colab_type": "code",
    "executionInfo": {
     "elapsed": 185894,
     "status": "ok",
     "timestamp": 1544087710888,
     "user": {
      "displayName": "Nanda H Krishna",
      "photoUrl": "https://lh4.googleusercontent.com/-6k_OhwA8ojs/AAAAAAAAAAI/AAAAAAAAABI/pARjetbedb0/s64/photo.jpg",
      "userId": "01156192776708384514"
     },
     "user_tz": -330
    },
    "id": "mniytvJUrX2X",
    "outputId": "dade4dda-d856-4dd7-982b-af9dfc7de5c7"
   },
   "outputs": [],
   "source": [
    "# With SMOTE Oversampling\n",
    "from sklearn.ensemble import ExtraTreesClassifier\n",
    "etc = ExtraTreesClassifier()\n",
    "etc.fit(X_res,y_res)\n",
    "acc_test = etc.score(features_test,labels_test)\n",
    "print (\"Test Accuracy:\", acc_test)\n",
    "pred = etc.predict(features_test)\n",
    "precision = precision_score(labels_test, pred, average=\"weighted\")\n",
    "recall = recall_score(labels_test, pred, average=\"weighted\")\n",
    "f1 = f1_score(labels_test, pred, average=\"weighted\")\n",
    "print (\"Precision:\", precision)\n",
    "print (\"Recall:\", recall)\n",
    "print (\"F1 Score:\", f1)\n",
    "print(classification_report(labels_test, pred))"
   ]
  },
  {
   "cell_type": "markdown",
   "metadata": {
    "colab_type": "text",
    "id": "xDnk2AQKrSO4"
   },
   "source": [
    "### Gradient Boosting"
   ]
  },
  {
   "cell_type": "code",
   "execution_count": null,
   "metadata": {
    "colab": {
     "base_uri": "https://localhost:8080/",
     "height": 204
    },
    "colab_type": "code",
    "executionInfo": {
     "elapsed": 25882,
     "status": "ok",
     "timestamp": 1544093285187,
     "user": {
      "displayName": "Nanda H Krishna",
      "photoUrl": "https://lh4.googleusercontent.com/-6k_OhwA8ojs/AAAAAAAAAAI/AAAAAAAAABI/pARjetbedb0/s64/photo.jpg",
      "userId": "01156192776708384514"
     },
     "user_tz": -330
    },
    "id": "LSFdlN2AsYW4",
    "outputId": "3886074e-d7a1-4e92-f595-76cc3e3a2926"
   },
   "outputs": [],
   "source": [
    "# With SMOTE Oversampling\n",
    "from sklearn.ensemble import GradientBoostingClassifier\n",
    "gb = GradientBoostingClassifier()\n",
    "gb.fit(X_res,y_res)\n",
    "acc_test = gb.score(features_test,labels_test)\n",
    "print (\"Test Accuracy:\", acc_test)\n",
    "pred = gb.predict(features_test)\n",
    "precision = precision_score(labels_test, pred, average=\"weighted\")\n",
    "recall = recall_score(labels_test, pred, average=\"weighted\")\n",
    "f1 = f1_score(labels_test, pred, average=\"weighted\")\n",
    "print (\"Precision:\", precision)\n",
    "print (\"Recall:\", recall)\n",
    "print (\"F1 Score:\", f1)\n",
    "print(classification_report(labels_test, pred))"
   ]
  },
  {
   "cell_type": "markdown",
   "metadata": {
    "colab_type": "text",
    "id": "yOPSbOmdEpRI"
   },
   "source": [
    "### Logistic Regression"
   ]
  },
  {
   "cell_type": "code",
   "execution_count": null,
   "metadata": {
    "colab": {
     "base_uri": "https://localhost:8080/",
     "height": 34
    },
    "colab_type": "code",
    "executionInfo": {
     "elapsed": 61785,
     "status": "ok",
     "timestamp": 1544080471441,
     "user": {
      "displayName": "Nanda H Krishna",
      "photoUrl": "https://lh4.googleusercontent.com/-6k_OhwA8ojs/AAAAAAAAAAI/AAAAAAAAABI/pARjetbedb0/s64/photo.jpg",
      "userId": "01156192776708384514"
     },
     "user_tz": -330
    },
    "id": "lc1wMOA5Eork",
    "outputId": "21c6d5af-d7e8-4b31-f0df-81639817991a"
   },
   "outputs": [],
   "source": [
    "# Default Classifier\n",
    "lr = LogisticRegression()\n",
    "lr.fit(features_train,labels_train)\n",
    "acc_test = lr.score(features_test,labels_test)\n",
    "print (\"Test Accuracy:\", acc_test)"
   ]
  },
  {
   "cell_type": "code",
   "execution_count": null,
   "metadata": {
    "colab": {
     "base_uri": "https://localhost:8080/",
     "height": 68
    },
    "colab_type": "code",
    "executionInfo": {
     "elapsed": 1299,
     "status": "ok",
     "timestamp": 1544080497963,
     "user": {
      "displayName": "Nanda H Krishna",
      "photoUrl": "https://lh4.googleusercontent.com/-6k_OhwA8ojs/AAAAAAAAAAI/AAAAAAAAABI/pARjetbedb0/s64/photo.jpg",
      "userId": "01156192776708384514"
     },
     "user_tz": -330
    },
    "id": "QSwEXkrakpRv",
    "outputId": "873d408f-2445-49f7-8446-f3efa8d6da90"
   },
   "outputs": [],
   "source": [
    "# Without sampling\n",
    "pred = lr.predict(features_test)\n",
    "precision = precision_score(labels_test, pred, average=\"weighted\")\n",
    "recall = recall_score(labels_test, pred, average=\"weighted\")\n",
    "f1 = f1_score(labels_test, pred, average=\"weighted\")\n",
    "print (\"Precision:\", precision)\n",
    "print (\"Recall:\", recall)\n",
    "print (\"F1 Score:\", f1)"
   ]
  },
  {
   "cell_type": "code",
   "execution_count": null,
   "metadata": {
    "colab": {
     "base_uri": "https://localhost:8080/",
     "height": 136
    },
    "colab_type": "code",
    "executionInfo": {
     "elapsed": 941,
     "status": "ok",
     "timestamp": 1544080502606,
     "user": {
      "displayName": "Nanda H Krishna",
      "photoUrl": "https://lh4.googleusercontent.com/-6k_OhwA8ojs/AAAAAAAAAAI/AAAAAAAAABI/pARjetbedb0/s64/photo.jpg",
      "userId": "01156192776708384514"
     },
     "user_tz": -330
    },
    "id": "VBhL_pqOXp8X",
    "outputId": "01c13fd8-2818-4e37-805d-27454189264b"
   },
   "outputs": [],
   "source": [
    "print(classification_report(labels_test, pred))"
   ]
  }
 ],
 "metadata": {
  "colab": {
   "collapsed_sections": [],
   "name": "TrainTest.ipynb",
   "provenance": [],
   "version": "0.3.2"
  },
  "kernelspec": {
   "display_name": "Python 3",
   "language": "python",
   "name": "python3"
  },
  "language_info": {
   "codemirror_mode": {
    "name": "ipython",
    "version": 3
   },
   "file_extension": ".py",
   "mimetype": "text/x-python",
   "name": "python",
   "nbconvert_exporter": "python",
   "pygments_lexer": "ipython3",
   "version": "3.7.3"
  }
 },
 "nbformat": 4,
 "nbformat_minor": 1
}
